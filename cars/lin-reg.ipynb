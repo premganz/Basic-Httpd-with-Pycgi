{
 "cells": [
  {
   "cell_type": "code",
   "execution_count": 14,
   "metadata": {},
   "outputs": [],
   "source": [
    "from __future__ import print_function\n",
    "import numpy as np\n",
    "import statsmodels.api as sm\n",
    "import matplotlib.pyplot as plt\n",
    "from statsmodels.sandbox.regression.predstd import wls_prediction_std\n",
    "import pandas as panda\n",
    "from patsy import dmatrices"
   ]
  },
  {
   "cell_type": "code",
   "execution_count": 109,
   "metadata": {},
   "outputs": [
    {
     "name": "stdout",
     "output_type": "stream",
     "text": [
      "                            OLS Regression Results                            \n",
      "==============================================================================\n",
      "Dep. Variable:              expensive   R-squared:                       0.452\n",
      "Model:                            OLS   Adj. R-squared:                  0.283\n",
      "Method:                 Least Squares   F-statistic:                     2.678\n",
      "Date:                Wed, 30 Jan 2019   Prob (F-statistic):             0.0791\n",
      "Time:                        22:43:16   Log-Likelihood:                -6.5948\n",
      "No. Observations:                  18   AIC:                             23.19\n",
      "Df Residuals:                      13   BIC:                             27.64\n",
      "Df Model:                           4                                         \n",
      "Covariance Type:            nonrobust                                         \n",
      "==============================================================================\n",
      "                 coef    std err          t      P>|t|      [0.025      0.975]\n",
      "------------------------------------------------------------------------------\n",
      "Intercept      0.1104      0.244      0.453      0.658      -0.416       0.637\n",
      "bhp            0.1496      0.069      2.158      0.050      -0.000       0.299\n",
      "cyl           -0.1632      0.108     -1.508      0.155      -0.397       0.071\n",
      "vintage        0.0355      0.082      0.435      0.671      -0.141       0.212\n",
      "origin         0.1638      0.063      2.590      0.022       0.027       0.300\n",
      "==============================================================================\n",
      "Omnibus:                        1.054   Durbin-Watson:                   1.406\n",
      "Prob(Omnibus):                  0.590   Jarque-Bera (JB):                0.963\n",
      "Skew:                           0.419   Prob(JB):                        0.618\n",
      "Kurtosis:                       2.238   Cond. No.                         12.4\n",
      "==============================================================================\n",
      "\n",
      "Warnings:\n",
      "[1] Standard Errors assume that the covariance matrix of the errors is correctly specified.\n"
     ]
    },
    {
     "name": "stderr",
     "output_type": "stream",
     "text": [
      "c:\\users\\c400133\\appdata\\local\\programs\\python\\python37-32\\lib\\site-packages\\scipy\\stats\\stats.py:1416: UserWarning: kurtosistest only valid for n>=20 ... continuing anyway, n=18\n",
      "  \"anyway, n=%i\" % int(n))\n"
     ]
    },
    {
     "data": {
      "text/plain": [
       "(1.8406769559918774, 0.29146518881244077)"
      ]
     },
     "execution_count": 109,
     "metadata": {},
     "output_type": "execute_result"
    }
   ],
   "source": [
    "\n",
    "pdf=panda.read_csv(\"c:/work/statis/cars/simple_large.csv\")\n",
    "pdf.head()\n",
    "pdf1=pdf.loc[:,['cyl','expensive', 'bhp', 'vintage', 'origin']]\n",
    "y, X = dmatrices('expensive ~ bhp+cyl+vintage+origin ', data=pdf1, return_type='dataframe')\n",
    "mod = sm.OLS(y, X)  \n",
    "res = mod.fit()  \n",
    "print(res.summary())\n",
    "sm.stats.linear_rainbow(res)\n"
   ]
  },
  {
   "cell_type": "code",
   "execution_count": 45,
   "metadata": {},
   "outputs": [
    {
     "data": {
      "image/png": "[encoded data removed]",
      "text/plain": [
       "<Figure size 432x288 with 1 Axes>"
      ]
     },
     "metadata": {
      "needs_background": "light"
     },
     "output_type": "display_data"
    },
    {
     "name": "stdout",
     "output_type": "stream",
     "text": [
      "(array(5.), array(2.), array(1.41421356), array(3.))\n"
     ]
    }
   ],
   "source": [
    "import scipy.stats\n",
    "import matplotlib.pyplot as plt\n",
    "from scipy.stats import skewnorm\n",
    "from scipy.stats import gamma, erlang, expon\n",
    "fig, ax = plt.subplots(1, 1)\n",
    "a = 4.427\n",
    "mean, var, skew, kurt = skewnorm.stats(a, moments='mvsk')\n",
    "x = np.linspace(skewnorm.ppf(0.01, a),skewnorm.ppf(0.99, a), 100)\n",
    "# ax.plot(x, skewnorm.pdf(x, a),'r-', lw=5, alpha=0.6, label='skewnorm pdf')\n",
    "# distribution = scipy.stats.gamma(100,10, scale=10)\n",
    "distribution = scipy.stats.erlang(2,3)\n",
    "x = np.linspace(1,10, 1000)\n",
    "ax.plot(x, distribution.pdf(x),'r-', lw=5, alpha=0.6, label='skewnorm pdf')\n",
    "# ax.plot(x, scipty.stats.exp.pdf(x, 2,1,1),'r-', lw=5, alpha=0.6, label='skewnorm pdf')\n",
    "sample = distribution.rvs(size=1000)\n",
    "ax.hist(sample, density=True, bins=10)\n",
    "plt.show()\n",
    "print (distribution.stats('mvsk'))\n"
   ]
  },
  {
   "cell_type": "code",
   "execution_count": 92,
   "metadata": {},
   "outputs": [
    {
     "name": "stdout",
     "output_type": "stream",
     "text": [
      "   origin  vintage  bhp  cyl  expensive\n",
      "0       1        1    4    4          1\n",
      "1       1        1    4    1          1\n",
      "2       4        1    1    1          1\n",
      "3       5        1    1    1          1\n",
      "4       1        5    1    1          1\n",
      "[   1 1700 1700 1700 1700 1700    0    0    0 1700    0]\n"
     ]
    }
   ],
   "source": [
    "from sklearn import datasets\n",
    "\n",
    "from sklearn.naive_bayes import GaussianNB\n",
    "gnb = GaussianNB()\n",
    "train_data = panda.read_csv(\"c:/work/statis/cars/simple.csv\")\n",
    "test_data=panda.read_csv(\"c:/work/statis/cars/simple_test.csv\")\n",
    "print(train_data.head())\n",
    "pdf_pairs_train = train_data.loc[:,['cyl','expensive']]\n",
    "pdf_pairs_test = test_data.loc[:,['cyl','expensive']]\n",
    "X = np.array(pdf_pairs_train.values)\n",
    "X_t = np.array(pdf_pairs_test.values)\n",
    "# print(X,X_t)\n",
    "y = np.array([1, 1, 0, 0, 1700, 1,0])\n",
    "\n",
    "y_pred = gnb.fit(X_t,y ).predict(X)\n",
    "print(y_pred)\n",
    "# print(\"Number of mislabeled points out of a total %d points : %d\"\n",
    "#       % (iris.data.shape[0],(iris.target != y_pred).sum()))"
   ]
  },
  {
   "cell_type": "code",
   "execution_count": 108,
   "metadata": {},
   "outputs": [
    {
     "name": "stdout",
     "output_type": "stream",
     "text": [
      "   origin  vintage  bhp  cyl  expensive\n",
      "0       3        3    2    2          1\n",
      "1       3        2    1    1          1\n",
      "2       2        1    2    1          0\n",
      "3       2        2    2    2          0\n",
      "4       3        1    1    1          1\n"
     ]
    },
    {
     "data": {
      "text/plain": [
       "array([1, 1, 0, 0, 1, 1, 0])"
      ]
     },
     "execution_count": 108,
     "metadata": {},
     "output_type": "execute_result"
    }
   ],
   "source": [
    "from sklearn import svm\n",
    "gnb = GaussianNB()\n",
    "test_data = panda.read_csv(\"c:/work/statis/cars/simple.csv\")\n",
    "train_data=panda.read_csv(\"c:/work/statis/cars/simple_test.csv\")\n",
    "print(train_data.head())\n",
    "pdf_pairs_test = train_data.loc[:,['cyl','expensive']]\n",
    "pdf_pairs_train = test_data.loc[:,['cyl','expensive']]\n",
    "X = np.array(pdf_pairs_test.values)\n",
    "X_t = np.array(pdf_pairs_train.values)\n",
    "# print(X,X_t)\n",
    "y = np.array([1, 1, 1, 1700, 1, 1,0,0,0,1,0])\n",
    "clf = svm.SVC(gamma='scale')\n",
    "clf.fit(X_t, y)  \n",
    "clf.predict(X)"
   ]
  },
  {
   "cell_type": "code",
   "execution_count": 148,
   "metadata": {},
   "outputs": [
    {
     "name": "stdout",
     "output_type": "stream",
     "text": [
      "   origin  vintage  bhp  cyl  expensive\n",
      "0       1        1    4    4          0\n",
      "1       1        1    4    1          0\n",
      "2       4        1    1    1          0\n",
      "3       5        1    1    1          0\n",
      "4       1        5    1    1          0\n"
     ]
    },
    {
     "name": "stderr",
     "output_type": "stream",
     "text": [
      "c:\\users\\c400133\\appdata\\local\\programs\\python\\python37-32\\lib\\site-packages\\sklearn\\utils\\validation.py:761: DataConversionWarning: A column-vector y was passed when a 1d array was expected. Please change the shape of y to (n_samples, ), for example using ravel().\n",
      "  y = column_or_1d(y, warn=True)\n"
     ]
    },
    {
     "data": {
      "text/plain": [
       "array([0, 1, 1, 1, 0, 1, 1, 0], dtype=int64)"
      ]
     },
     "execution_count": 148,
     "metadata": {},
     "output_type": "execute_result"
    }
   ],
   "source": [
    "from sklearn import svm\n",
    "gnb = GaussianNB()\n",
    "test_data = panda.read_csv(\"c:/work/statis/cars/complex_test.csv\")\n",
    "train_data=panda.read_csv(\"c:/work/statis/cars/complex.csv\")\n",
    "print(train_data.head())\n",
    "pdf_pairs_test = test_data.loc[:,['cyl','bhp','expensive']]\n",
    "pdf_pairs_train = train_data.loc[:,['cyl','bhp','expensive']]\n",
    "X = np.array(pdf_pairs_train.values)\n",
    "X_t = np.array(pdf_pairs_test.values)\n",
    "# print(X,X_t)\n",
    "y = np.array(train_data.loc[:,['expensive']])\n",
    "clf = svm.SVC(gamma='scale')\n",
    "clf.fit(X, y)  \n",
    "clf.predict(X_t)"
   ]
  },
  {
   "cell_type": "code",
   "execution_count": 145,
   "metadata": {},
   "outputs": [
    {
     "name": "stdout",
     "output_type": "stream",
     "text": [
      "Optimization terminated successfully.\n",
      "         Current function value: 0.647336\n",
      "         Iterations 5\n",
      "                        Results: Logit\n",
      "==============================================================\n",
      "Model:              Logit            Pseudo R-squared: -0.017 \n",
      "Dependent Variable: expensive        AIC:              25.3041\n",
      "Date:               2019-02-01 18:55 BIC:              26.1945\n",
      "No. Observations:   18               Log-Likelihood:   -11.652\n",
      "Df Model:           0                LL-Null:          -11.457\n",
      "Df Residuals:       17               LLR p-value:      nan    \n",
      "Converged:          1.0000           Scale:            1.0000 \n",
      "No. Iterations:     5.0000                                    \n",
      "----------------------------------------------------------------\n",
      "          Coef.    Std.Err.     z      P>|z|     [0.025   0.975]\n",
      "----------------------------------------------------------------\n",
      "cyl       0.3151     0.2633   1.1970   0.2313   -0.2009   0.8311\n",
      "==============================================================\n",
      "\n",
      "        Logit Marginal Effects       \n",
      "=====================================\n",
      "Dep. Variable:              expensive\n",
      "Method:                          dydx\n",
      "At:                           overall\n",
      "==============================================================================\n",
      "                dy/dx    std err          z      P>|z|      [0.025      0.975]\n",
      "------------------------------------------------------------------------------\n",
      "cyl            0.0719      0.050      1.426      0.154      -0.027       0.171\n",
      "==============================================================================\n"
     ]
    },
    {
     "data": {
      "image/png": "[encoded data removed]",
      "text/plain": [
       "<Figure size 432x288 with 1 Axes>"
      ]
     },
     "metadata": {},
     "output_type": "display_data"
    }
   ],
   "source": [
    "import pandas as pd\n",
    "import numpy as np\n",
    "from sklearn import preprocessing\n",
    "import matplotlib.pyplot as plt \n",
    "plt.rc(\"font\", size=14)\n",
    "from sklearn.linear_model import LogisticRegression\n",
    "\n",
    "import seaborn as sns\n",
    "sns.set(style=\"white\")\n",
    "sns.set(style=\"whitegrid\", color_codes=True)\n",
    "pdf.cyl.unique()\n",
    "pdf.groupby('cyl').mean()\n",
    "table=panda.crosstab(pdf.cyl,pdf.expensive)\n",
    "table.div(table.sum(1).astype(float), axis=0).plot(kind='bar', stacked=True)\n",
    "plt.title('Stacked Bar Chart of cyl vs expensive')\n",
    "plt.xlabel('cyl')\n",
    "plt.ylabel('prop of expensive labelled outcomes')\n",
    "plt.savefig('cyl vs expen')\n",
    "\n",
    "\n",
    "logit_model=sm.Logit(pdf.expensive, pdf.cyl)\n",
    "result=logit_model.fit()\n",
    "print(result.summary2())\n",
    "margeff = result.get_margeff()\n",
    "print(margeff.summary())"
   ]
  },
  {
   "cell_type": "code",
   "execution_count": 121,
   "metadata": {},
   "outputs": [
    {
     "data": {
      "text/plain": [
       "array([1700, 1700,    0,    0, 1700,    1,    0])"
      ]
     },
     "execution_count": 121,
     "metadata": {},
     "output_type": "execute_result"
    }
   ],
   "source": [
    "from sklearn.ensemble import RandomForestClassifier\n",
    "from sklearn.datasets import make_classification\n",
    "\n",
    "clf = RandomForestClassifier(n_estimators=100, max_depth=2,random_state=0)\n",
    "\n",
    "X = np.array(pdf_pairs_test.values)\n",
    "X_t = np.array(pdf_pairs_train.values)\n",
    "# print(X,X_t)\n",
    "y = np.array([1, 0, 1, 1700, 1700, 1700,0,0,0,1,0])\n",
    "clf = svm.SVC(gamma='scale')\n",
    "clf.fit(X_t, y)  \n",
    "clf.predict(X)\n",
    "\n",
    "\n",
    "\n",
    "\n"
   ]
  },
  {
   "cell_type": "code",
   "execution_count": 175,
   "metadata": {},
   "outputs": [
    {
     "name": "stderr",
     "output_type": "stream",
     "text": [
      "c:\\users\\c400133\\appdata\\local\\programs\\python\\python37-32\\lib\\site-packages\\sklearn\\utils\\validation.py:761: DataConversionWarning: A column-vector y was passed when a 1d array was expected. Please change the shape of y to (n_samples, ), for example using ravel().\n",
      "  y = column_or_1d(y, warn=True)\n"
     ]
    },
    {
     "name": "stdout",
     "output_type": "stream",
     "text": [
      "    F\n",
      "1   0\n",
      "2   0\n",
      "3   0\n",
      "4   0\n",
      "5   1\n",
      "6   0\n",
      "7   1\n",
      "8   0\n",
      "9   2\n",
      "10  2\n",
      "11  1\n",
      "12  0\n",
      "13  0\n",
      "14  2\n",
      "15  0\n",
      "16  0\n",
      "17  2\n",
      "18  0\n",
      "19  0\n",
      "20  0\n",
      "[0 0 0 0 1 0 1 0 2 2 1 0 0 2 0 0 2 0 0 0]\n"
     ]
    }
   ],
   "source": [
    "from sklearn.ensemble import RandomForestClassifier\n",
    "from sklearn.datasets import make_classification\n",
    "test_data = panda.read_csv(\"c:/work/statis/cars/sum_train_large_v6.csv\")\n",
    "train_data=panda.read_csv(\"c:/work/statis/cars/sum_train_large_v6.csv\")\n",
    "# print(train_data.head())\n",
    "pdf_result_col = train_data.loc[1800:25050,['F']]\n",
    "pdf_pairs_train = train_data.loc[1800:25050,['A','B','C','D','E']]\n",
    "pdf_pairs_test = train_data.loc[1:20,['A','B','C','D','E']]\n",
    "X = np.array(pdf_pairs_train.values)\n",
    "X_t = np.array(pdf_pairs_test.values)\n",
    "y = np.array(pdf_result_col.values)\n",
    "clf = RandomForestClassifier(n_estimators=100, max_depth=2,random_state=0)\n",
    "clf = svm.SVC(gamma='scale')\n",
    "clf.fit(X, y)  \n",
    "print(train_data.loc[1:20,['F']])\n",
    "\n",
    "print(clf.predict(X_t))\n",
    "# Alogrithm used in data generation is \n",
    "# for a,b,c,d,e random nos 1-10\n",
    "#  if ((a>3 and b>3)  or (c>8)) and (e<5):\n",
    "#         f=1\n",
    "#     elif  ((a>7 and b>8) or (e>8)):\n",
    "#         f=2\n",
    "#     else:\n",
    "#         f=0"
   ]
  },
  {
   "cell_type": "code",
   "execution_count": 176,
   "metadata": {},
   "outputs": [
    {
     "name": "stderr",
     "output_type": "stream",
     "text": [
      "c:\\users\\c400133\\appdata\\local\\programs\\python\\python37-32\\lib\\site-packages\\sklearn\\utils\\validation.py:761: DataConversionWarning: A column-vector y was passed when a 1d array was expected. Please change the shape of y to (n_samples, ), for example using ravel().\n",
      "  y = column_or_1d(y, warn=True)\n"
     ]
    },
    {
     "data": {
      "text/plain": [
       "array([0, 0, 0, 0, 1, 0, 1, 0, 2, 2, 1, 0, 0, 2, 0, 0, 2, 0, 0, 0],\n",
       "      dtype=int64)"
      ]
     },
     "execution_count": 176,
     "metadata": {},
     "output_type": "execute_result"
    }
   ],
   "source": [
    "from sklearn import svm\n",
    "gnb = GaussianNB()\n",
    "\n",
    "clf = svm.SVC(gamma='scale')\n",
    "clf.fit(X, y)  \n",
    "clf.predict(X_t)"
   ]
  },
  {
   "cell_type": "code",
   "execution_count": null,
   "metadata": {},
   "outputs": [],
   "source": []
  }
 ],
 "metadata": {
  "kernelspec": {
   "display_name": "Python 3",
   "language": "python",
   "name": "python3"
  },
  "language_info": {
   "codemirror_mode": {
    "name": "ipython",
    "version": 3
   },
   "file_extension": ".py",
   "mimetype": "text/x-python",
   "name": "python",
   "nbconvert_exporter": "python",
   "pygments_lexer": "ipython3",
   "version": "3.7.0"
  }
 },
 "nbformat": 4,
 "nbformat_minor": 2
}
