{
 "cells": [
  {
   "cell_type": "code",
   "execution_count": 1,
   "metadata": {},
   "outputs": [],
   "source": [
    "from __future__ import print_function\n",
    "import numpy as np\n",
    "import statsmodels.api as sm\n",
    "import matplotlib.pyplot as plt\n",
    "from statsmodels.sandbox.regression.predstd import wls_prediction_std\n"
   ]
  },
  {
   "cell_type": "code",
   "execution_count": 83,
   "metadata": {},
   "outputs": [
    {
     "name": "stdout",
     "output_type": "stream",
     "text": [
      "   Aboard  Fatalities  Ground\n",
      "0     2.0         1.0     0.0\n",
      "1     5.0         5.0     0.0\n",
      "2     1.0         1.0     0.0\n",
      "3    20.0        14.0     0.0\n",
      "4    30.0        30.0     0.0\n"
     ]
    }
   ],
   "source": [
    "import pandas as panda\n",
    "pdf=panda.read_csv(\"c:/work/statis/air-crash/aircrashes.csv\")\n",
    "pdf1=pdf.loc[:,['Aboard','Fatalities','Ground']]\n",
    "pdf1=pdf1[:].dropna()\n",
    "print(pdf1.head())\n"
   ]
  },
  {
   "cell_type": "code",
   "execution_count": 84,
   "metadata": {},
   "outputs": [
    {
     "data": {
      "text/html": [
       "<div>\n",
       "<style scoped>\n",
       "    .dataframe tbody tr th:only-of-type {\n",
       "        vertical-align: middle;\n",
       "    }\n",
       "\n",
       "    .dataframe tbody tr th {\n",
       "        vertical-align: top;\n",
       "    }\n",
       "\n",
       "    .dataframe thead th {\n",
       "        text-align: right;\n",
       "    }\n",
       "</style>\n",
       "<table border=\"1\" class=\"dataframe\">\n",
       "  <thead>\n",
       "    <tr style=\"text-align: right;\">\n",
       "      <th></th>\n",
       "      <th>Intercept</th>\n",
       "      <th>Aboard</th>\n",
       "      <th>Ground</th>\n",
       "    </tr>\n",
       "  </thead>\n",
       "  <tbody>\n",
       "    <tr>\n",
       "      <th>0</th>\n",
       "      <td>1.0</td>\n",
       "      <td>2.0</td>\n",
       "      <td>0.0</td>\n",
       "    </tr>\n",
       "    <tr>\n",
       "      <th>1</th>\n",
       "      <td>1.0</td>\n",
       "      <td>5.0</td>\n",
       "      <td>0.0</td>\n",
       "    </tr>\n",
       "    <tr>\n",
       "      <th>2</th>\n",
       "      <td>1.0</td>\n",
       "      <td>1.0</td>\n",
       "      <td>0.0</td>\n",
       "    </tr>\n",
       "  </tbody>\n",
       "</table>\n",
       "</div>"
      ],
      "text/plain": [
       "   Intercept  Aboard  Ground\n",
       "0        1.0     2.0     0.0\n",
       "1        1.0     5.0     0.0\n",
       "2        1.0     1.0     0.0"
      ]
     },
     "execution_count": 84,
     "metadata": {},
     "output_type": "execute_result"
    }
   ],
   "source": [
    "from patsy import dmatrices\n",
    "y, X = dmatrices('Fatalities ~ Aboard+Ground', data=pdf1, return_type='dataframe')\n",
    "X[:3]"
   ]
  },
  {
   "cell_type": "code",
   "execution_count": 85,
   "metadata": {},
   "outputs": [
    {
     "name": "stdout",
     "output_type": "stream",
     "text": [
      "                            OLS Regression Results                            \n",
      "==============================================================================\n",
      "Dep. Variable:             Fatalities   R-squared:                       0.574\n",
      "Model:                            OLS   Adj. R-squared:                  0.573\n",
      "Method:                 Least Squares   F-statistic:                     3518.\n",
      "Date:                Fri, 18 Jan 2019   Prob (F-statistic):               0.00\n",
      "Time:                        18:29:43   Log-Likelihood:                -23543.\n",
      "No. Observations:                5236   AIC:                         4.709e+04\n",
      "Df Residuals:                    5233   BIC:                         4.711e+04\n",
      "Df Model:                           2                                         \n",
      "Covariance Type:            nonrobust                                         \n",
      "==============================================================================\n",
      "                 coef    std err          t      P>|t|      [0.025      0.975]\n",
      "------------------------------------------------------------------------------\n",
      "Intercept      3.9912      0.356     11.203      0.000       3.293       4.690\n",
      "Aboard         0.5834      0.007     83.796      0.000       0.570       0.597\n",
      "Ground         0.0108      0.006      1.945      0.052    -8.6e-05       0.022\n",
      "==============================================================================\n",
      "Omnibus:                     3336.511   Durbin-Watson:                   2.028\n",
      "Prob(Omnibus):                  0.000   Jarque-Bera (JB):           243311.487\n",
      "Skew:                          -2.273   Prob(JB):                         0.00\n",
      "Kurtosis:                      36.084   Cond. No.                         64.5\n",
      "==============================================================================\n",
      "\n",
      "Warnings:\n",
      "[1] Standard Errors assume that the covariance matrix of the errors is correctly specified.\n"
     ]
    }
   ],
   "source": [
    "mod = sm.OLS(y, X)  \n",
    "res = mod.fit()  \n",
    "print(res.summary())"
   ]
  },
  {
   "cell_type": "code",
   "execution_count": 101,
   "metadata": {},
   "outputs": [
    {
     "data": {
      "text/plain": [
       "(0.6193705407523213, 0.9999999999999999)"
      ]
     },
     "execution_count": 101,
     "metadata": {},
     "output_type": "execute_result"
    }
   ],
   "source": [
    "sm.stats.linear_rainbow(res)\n",
    "# sm.stats.linear_lm(res)\n"
   ]
  },
  {
   "cell_type": "code",
   "execution_count": 102,
   "metadata": {},
   "outputs": [],
   "source": [
    "pdf2=pdf1[:].dropna()\n",
    "# print(pdf2)\n",
    "# sm.graphics.plot_partregress('Fatalities', 'Aboard',['Ground'],data=pdf2, obs_labels=False)"
   ]
  },
  {
   "cell_type": "code",
   "execution_count": 103,
   "metadata": {},
   "outputs": [
    {
     "name": "stdout",
     "output_type": "stream",
     "text": [
      "                            OLS Regression Results                            \n",
      "==============================================================================\n",
      "Dep. Variable:                 Aboard   R-squared:                       0.001\n",
      "Model:                            OLS   Adj. R-squared:                  0.000\n",
      "Method:                 Least Squares   F-statistic:                     2.829\n",
      "Date:                Fri, 18 Jan 2019   Prob (F-statistic):             0.0927\n",
      "Time:                        18:45:05   Log-Likelihood:                -27135.\n",
      "No. Observations:                5236   AIC:                         5.427e+04\n",
      "Df Residuals:                    5234   BIC:                         5.429e+04\n",
      "Df Model:                           1                                         \n",
      "Covariance Type:            nonrobust                                         \n",
      "==============================================================================\n",
      "                 coef    std err          t      P>|t|      [0.025      0.975]\n",
      "------------------------------------------------------------------------------\n",
      "Intercept     27.5593      0.596     46.246      0.000      26.391      28.728\n",
      "Ground         0.0185      0.011      1.682      0.093      -0.003       0.040\n",
      "==============================================================================\n",
      "Omnibus:                     4705.687   Durbin-Watson:                   1.891\n",
      "Prob(Omnibus):                  0.000   Jarque-Bera (JB):           191783.795\n",
      "Skew:                           4.247   Prob(JB):                         0.00\n",
      "Kurtosis:                      31.406   Cond. No.                         54.1\n",
      "==============================================================================\n",
      "\n",
      "Warnings:\n",
      "[1] Standard Errors assume that the covariance matrix of the errors is correctly specified.\n"
     ]
    },
    {
     "data": {
      "text/plain": [
       "(0.7657900242987289, 0.9999999999952831)"
      ]
     },
     "execution_count": 103,
     "metadata": {},
     "output_type": "execute_result"
    }
   ],
   "source": [
    "pdf1=pdf.loc[:,['Aboard','Fatalities','Ground']]\n",
    "pdf1=pdf1[:].dropna()\n",
    "y, X = dmatrices('Aboard ~ Ground', data=pdf1, return_type='dataframe')\n",
    "mod = sm.OLS(y, X)  \n",
    "res = mod.fit()  \n",
    "print(res.summary())\n",
    "sm.stats.linear_rainbow(res)"
   ]
  },
  {
   "cell_type": "code",
   "execution_count": null,
   "metadata": {},
   "outputs": [],
   "source": []
  }
 ],
 "metadata": {
  "kernelspec": {
   "display_name": "Python 3",
   "language": "python",
   "name": "python3"
  },
  "language_info": {
   "codemirror_mode": {
    "name": "ipython",
    "version": 3
   },
   "file_extension": ".py",
   "mimetype": "text/x-python",
   "name": "python",
   "nbconvert_exporter": "python",
   "pygments_lexer": "ipython3",
   "version": "3.7.0"
  }
 },
 "nbformat": 4,
 "nbformat_minor": 2
}
