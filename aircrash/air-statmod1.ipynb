{
 "cells": [
  {
   "cell_type": "code",
   "execution_count": 2,
   "metadata": {},
   "outputs": [],
   "source": [
    "from __future__ import print_function\n",
    "import numpy as np\n",
    "import statsmodels.api as sm\n",
    "import matplotlib.pyplot as plt\n",
    "from statsmodels.sandbox.regression.predstd import wls_prediction_std\n",
    "import pandas as panda\n",
    "from patsy import dmatrices"
   ]
  },
  {
   "cell_type": "code",
   "execution_count": 3,
   "metadata": {},
   "outputs": [
    {
     "name": "stdout",
     "output_type": "stream",
     "text": [
      "                            OLS Regression Results                            \n",
      "==============================================================================\n",
      "Dep. Variable:                 Aboard   R-squared:                       0.001\n",
      "Model:                            OLS   Adj. R-squared:                  0.000\n",
      "Method:                 Least Squares   F-statistic:                     2.829\n",
      "Date:                Mon, 21 Jan 2019   Prob (F-statistic):             0.0927\n",
      "Time:                        18:08:59   Log-Likelihood:                -27135.\n",
      "No. Observations:                5236   AIC:                         5.427e+04\n",
      "Df Residuals:                    5234   BIC:                         5.429e+04\n",
      "Df Model:                           1                                         \n",
      "Covariance Type:            nonrobust                                         \n",
      "==============================================================================\n",
      "                 coef    std err          t      P>|t|      [0.025      0.975]\n",
      "------------------------------------------------------------------------------\n",
      "Intercept     27.5593      0.596     46.246      0.000      26.391      28.728\n",
      "Ground         0.0185      0.011      1.682      0.093      -0.003       0.040\n",
      "==============================================================================\n",
      "Omnibus:                     4705.687   Durbin-Watson:                   1.891\n",
      "Prob(Omnibus):                  0.000   Jarque-Bera (JB):           191783.795\n",
      "Skew:                           4.247   Prob(JB):                         0.00\n",
      "Kurtosis:                      31.406   Cond. No.                         54.1\n",
      "==============================================================================\n",
      "\n",
      "Warnings:\n",
      "[1] Standard Errors assume that the covariance matrix of the errors is correctly specified.\n"
     ]
    },
    {
     "data": {
      "text/plain": [
       "(0.7657900242987289, 0.9999999999952831)"
      ]
     },
     "execution_count": 3,
     "metadata": {},
     "output_type": "execute_result"
    }
   ],
   "source": [
    "\n",
    "pdf=panda.read_csv(\"c:/work/statis/air-crash/aircrashes.csv\")\n",
    "pdf1=pdf.loc[:,['Aboard','Fatalities','Ground']]\n",
    "pdf1=pdf1[:].dropna()\n",
    "y, X = dmatrices('Aboard ~ Ground', data=pdf1, return_type='dataframe')\n",
    "mod = sm.OLS(y, X)  \n",
    "res = mod.fit()  \n",
    "print(res.summary())\n",
    "sm.stats.linear_rainbow(res)\n"
   ]
  },
  {
   "cell_type": "code",
   "execution_count": 37,
   "metadata": {},
   "outputs": [
    {
     "data": {
      "image/png": "[encoded data removed]",
      "text/plain": [
       "<Figure size 432x288 with 1 Axes>"
      ]
     },
     "metadata": {
      "needs_background": "light"
     },
     "output_type": "display_data"
    },
    {
     "name": "stdout",
     "output_type": "stream",
     "text": [
      "(array(5.), array(2.), array(1.41421356), array(3.))\n"
     ]
    }
   ],
   "source": [
    "import scipy.stats\n",
    "import matplotlib.pyplot as plt\n",
    "from scipy.stats import skewnorm\n",
    "from scipy.stats import gamma, erlang, expon\n",
    "fig, ax = plt.subplots(1, 1)\n",
    "a = 4.427\n",
    "mean, var, skew, kurt = skewnorm.stats(a, moments='mvsk')\n",
    "x = np.linspace(skewnorm.ppf(0.01, a),skewnorm.ppf(0.99, a), 100)\n",
    "# ax.plot(x, skewnorm.pdf(x, a),'r-', lw=5, alpha=0.6, label='skewnorm pdf')\n",
    "# distribution = scipy.stats.gamma(100,10, scale=10)\n",
    "distribution = scipy.stats.erlang(2,3)\n",
    "x = np.linspace(1,10, 1000)\n",
    "ax.plot(x, distribution.pdf(x),'r-', lw=5, alpha=0.6, label='skewnorm pdf')\n",
    "# ax.plot(x, scipty.stats.exp.pdf(x, 2,1,1),'r-', lw=5, alpha=0.6, label='skewnorm pdf')\n",
    "sample = distribution.rvs(size=1000)\n",
    "ax.hist(sample, density=True, bins=10)\n",
    "plt.show()\n",
    "print (distribution.stats('mvsk'))\n"
   ]
  },
  {
   "cell_type": "code",
   "execution_count": 46,
   "metadata": {},
   "outputs": [
    {
     "name": "stdout",
     "output_type": "stream",
     "text": [
      "(41.0, 45.32370820668693)\n"
     ]
    },
    {
     "data": {
      "image/png": "[encoded data removed]",
      "text/plain": [
       "<Figure size 432x288 with 1 Axes>"
      ]
     },
     "metadata": {
      "needs_background": "light"
     },
     "output_type": "display_data"
    }
   ],
   "source": [
    "pdf1=pdf1[pdf1.Fatalities>70]\n",
    "pdf2=pdf1.loc[:,'Fatalities']\n",
    "# pdf2=pdf1.query('Fatalities > 1')\n",
    "fig, ax = plt.subplots(1, 1)\n",
    "params=scipy.stats.expon.fit(pdf2)\n",
    "print(norm)\n",
    "ax.hist(pdf2,density=True, bins=300)\n",
    "# distribution = scipy.stats.skewnorm(50940794, 41, 72)\n",
    "# distribution=erlang(0.01,0.01,70)\n",
    "distribution = scipy.stats.expon(params[0], params[1])\n",
    "x = np.linspace(16,500, 500)\n",
    "ax.plot(x, distribution.pdf(x),'r-', lw=5, alpha=0.6, label='skewnorm pdf')\n",
    "# ax.plot(x, scipty.stats.exp.pdf(x, 2,1,1),'r-', lw=5, alpha=0.6, label='skewnorm pdf')\n",
    "sample = distribution.rvs(size=5000)\n",
    "# ax.hist(sample, density=True, bins=100)\n",
    "plt.show()\n",
    "\n",
    "# ax.plot(norm)"
   ]
  },
  {
   "cell_type": "code",
   "execution_count": null,
   "metadata": {},
   "outputs": [],
   "source": [
    "pdf1.hist()"
   ]
  }
 ],
 "metadata": {
  "kernelspec": {
   "display_name": "Python 3",
   "language": "python",
   "name": "python3"
  },
  "language_info": {
   "codemirror_mode": {
    "name": "ipython",
    "version": 3
   },
   "file_extension": ".py",
   "mimetype": "text/x-python",
   "name": "python",
   "nbconvert_exporter": "python",
   "pygments_lexer": "ipython3",
   "version": "3.7.0"
  }
 },
 "nbformat": 4,
 "nbformat_minor": 2
}
